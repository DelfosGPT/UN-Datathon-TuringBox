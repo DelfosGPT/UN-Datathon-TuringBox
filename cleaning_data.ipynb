{
 "cells": [
  {
   "cell_type": "markdown",
   "metadata": {},
   "source": [
    "# Cleaning data\n",
    "This notebook processes and filters a collection of CSV files related to places, performs some transformations, and saves the final result as a CSV file. The primary steps involve combining multiple CSV files, cleaning the data, applying specific filters, and adding new computed columns. The final output is a filtered and enriched dataset saved in final_places.csv."
   ]
  },
  {
   "cell_type": "markdown",
   "metadata": {},
   "source": [
    "## Importing Required Libraries"
   ]
  },
  {
   "cell_type": "code",
   "execution_count": 75,
   "metadata": {},
   "outputs": [],
   "source": [
    "from unidecode import unidecode\n",
    "import pandas as pd\n",
    "import os"
   ]
  },
  {
   "cell_type": "markdown",
   "metadata": {},
   "source": [
    "## Combining Multiple CSV Files into One DataFrame"
   ]
  },
  {
   "cell_type": "code",
   "execution_count": 76,
   "metadata": {},
   "outputs": [
    {
     "data": {
      "text/html": [
       "<div>\n",
       "<style scoped>\n",
       "    .dataframe tbody tr th:only-of-type {\n",
       "        vertical-align: middle;\n",
       "    }\n",
       "\n",
       "    .dataframe tbody tr th {\n",
       "        vertical-align: top;\n",
       "    }\n",
       "\n",
       "    .dataframe thead th {\n",
       "        text-align: right;\n",
       "    }\n",
       "</style>\n",
       "<table border=\"1\" class=\"dataframe\">\n",
       "  <thead>\n",
       "    <tr style=\"text-align: right;\">\n",
       "      <th></th>\n",
       "      <th>name</th>\n",
       "      <th>desc</th>\n",
       "      <th>score</th>\n",
       "      <th>c_score</th>\n",
       "      <th>price</th>\n",
       "      <th>category</th>\n",
       "      <th>accessibility</th>\n",
       "      <th>schedule</th>\n",
       "      <th>web</th>\n",
       "      <th>search_parameters</th>\n",
       "      <th>phone</th>\n",
       "      <th>address</th>\n",
       "      <th>lat</th>\n",
       "      <th>lon</th>\n",
       "    </tr>\n",
       "  </thead>\n",
       "  <tbody>\n",
       "    <tr>\n",
       "      <th>0</th>\n",
       "      <td>Los Fabio's Popular</td>\n",
       "      <td>Información  Opciones de servicio\\n\\nAsientos...</td>\n",
       "      <td>4.5</td>\n",
       "      <td>74.0</td>\n",
       "      <td>$ 10.000-20.000</td>\n",
       "      <td>Hamburguesería</td>\n",
       "      <td>NaN</td>\n",
       "      <td>6 pm.,9 pm.</td>\n",
       "      <td>NaN</td>\n",
       "      <td>Comuna Popular Restaurantes</td>\n",
       "      <td>319 6117987</td>\n",
       "      <td>Cra. 42c #107-001, La Isla, Medellín, Popular,...</td>\n",
       "      <td>6.295462</td>\n",
       "      <td>-75.548500</td>\n",
       "    </tr>\n",
       "    <tr>\n",
       "      <th>1</th>\n",
       "      <td>BRASAS MI SOR</td>\n",
       "      <td>Información  Opciones de servicio\\n\\nRetiros ...</td>\n",
       "      <td>5.0</td>\n",
       "      <td>1.0</td>\n",
       "      <td>NaN</td>\n",
       "      <td>Restaurante</td>\n",
       "      <td>NaN</td>\n",
       "      <td>NaN</td>\n",
       "      <td>https://brasas-mi-sor.ola.click/</td>\n",
       "      <td>Comuna Popular Restaurantes</td>\n",
       "      <td>314 7757452</td>\n",
       "      <td>Cra. 43 #110 a 58, La Isla, Medellín, Popular,...</td>\n",
       "      <td>6.299469</td>\n",
       "      <td>-75.547267</td>\n",
       "    </tr>\n",
       "    <tr>\n",
       "      <th>2</th>\n",
       "      <td>Mandingas la 107</td>\n",
       "      <td>Información  Opciones de servicio\\n\\nPara lle...</td>\n",
       "      <td>4.8</td>\n",
       "      <td>20.0</td>\n",
       "      <td>$ 1-10.000</td>\n",
       "      <td>Restaurante de comida para llevar</td>\n",
       "      <td>NaN</td>\n",
       "      <td>6 pm.,6 .</td>\n",
       "      <td>NaN</td>\n",
       "      <td>Comuna Popular Restaurantes</td>\n",
       "      <td>319 3353560</td>\n",
       "      <td>Cra 49B #107-3, Villa Niza, Medellín, Santa Cr...</td>\n",
       "      <td>6.297972</td>\n",
       "      <td>-75.554448</td>\n",
       "    </tr>\n",
       "    <tr>\n",
       "      <th>3</th>\n",
       "      <td>Grosseto Pizzeria</td>\n",
       "      <td>Información  Accesibilidad\\n\\nEntrada accesib...</td>\n",
       "      <td>4.4</td>\n",
       "      <td>14.0</td>\n",
       "      <td>NaN</td>\n",
       "      <td>Restaurante</td>\n",
       "      <td>Accesible con silla de ruedas</td>\n",
       "      <td>12 pm.,6 .</td>\n",
       "      <td>NaN</td>\n",
       "      <td>Comuna Popular Restaurantes</td>\n",
       "      <td>324 2886618</td>\n",
       "      <td>Calle 126, Cra. 42ee #88, Medellín, Antioquia</td>\n",
       "      <td>6.304309</td>\n",
       "      <td>-75.546252</td>\n",
       "    </tr>\n",
       "    <tr>\n",
       "      <th>4</th>\n",
       "      <td>Las Paisanas</td>\n",
       "      <td>Información  Opciones de servicio\\n\\nAsientos...</td>\n",
       "      <td>4.6</td>\n",
       "      <td>15.0</td>\n",
       "      <td>NaN</td>\n",
       "      <td>Restaurante</td>\n",
       "      <td>NaN</td>\n",
       "      <td>NaN</td>\n",
       "      <td>NaN</td>\n",
       "      <td>Comuna Popular Restaurantes</td>\n",
       "      <td>302 3874084</td>\n",
       "      <td>0505, Medellín, Antioquia</td>\n",
       "      <td>6.305670</td>\n",
       "      <td>-75.553140</td>\n",
       "    </tr>\n",
       "  </tbody>\n",
       "</table>\n",
       "</div>"
      ],
      "text/plain": [
       "                  name                                               desc  \\\n",
       "0  Los Fabio's Popular  Información  Opciones de servicio\\n\\nAsientos...   \n",
       "1        BRASAS MI SOR  Información  Opciones de servicio\\n\\nRetiros ...   \n",
       "2     Mandingas la 107  Información  Opciones de servicio\\n\\nPara lle...   \n",
       "3    Grosseto Pizzeria  Información  Accesibilidad\\n\\nEntrada accesib...   \n",
       "4         Las Paisanas  Información  Opciones de servicio\\n\\nAsientos...   \n",
       "\n",
       "   score  c_score            price                           category  \\\n",
       "0    4.5     74.0  $ 10.000-20.000                     Hamburguesería   \n",
       "1    5.0      1.0              NaN                        Restaurante   \n",
       "2    4.8     20.0       $ 1-10.000  Restaurante de comida para llevar   \n",
       "3    4.4     14.0              NaN                        Restaurante   \n",
       "4    4.6     15.0              NaN                        Restaurante   \n",
       "\n",
       "                   accessibility     schedule  \\\n",
       "0                            NaN  6 pm.,9 pm.   \n",
       "1                            NaN          NaN   \n",
       "2                            NaN    6 pm.,6 .   \n",
       "3  Accesible con silla de ruedas   12 pm.,6 .   \n",
       "4                            NaN          NaN   \n",
       "\n",
       "                                web            search_parameters  \\\n",
       "0                               NaN  Comuna Popular Restaurantes   \n",
       "1  https://brasas-mi-sor.ola.click/  Comuna Popular Restaurantes   \n",
       "2                               NaN  Comuna Popular Restaurantes   \n",
       "3                               NaN  Comuna Popular Restaurantes   \n",
       "4                               NaN  Comuna Popular Restaurantes   \n",
       "\n",
       "          phone                                            address       lat  \\\n",
       "0  319 6117987   Cra. 42c #107-001, La Isla, Medellín, Popular,...  6.295462   \n",
       "1  314 7757452   Cra. 43 #110 a 58, La Isla, Medellín, Popular,...  6.299469   \n",
       "2  319 3353560   Cra 49B #107-3, Villa Niza, Medellín, Santa Cr...  6.297972   \n",
       "3  324 2886618       Calle 126, Cra. 42ee #88, Medellín, Antioquia  6.304309   \n",
       "4  302 3874084                           0505, Medellín, Antioquia  6.305670   \n",
       "\n",
       "         lon  \n",
       "0 -75.548500  \n",
       "1 -75.547267  \n",
       "2 -75.554448  \n",
       "3 -75.546252  \n",
       "4 -75.553140  "
      ]
     },
     "execution_count": 76,
     "metadata": {},
     "output_type": "execute_result"
    }
   ],
   "source": [
    "dataframes = []\n",
    "\n",
    "for archivo in os.listdir(\"./data/output/places\"):\n",
    "    if archivo.endswith(\".csv\") and archivo.startswith(\"places\"):\n",
    "        df = pd.read_csv(os.path.join(\"./data/output/places\", archivo))\n",
    "        dataframes.append(df)\n",
    "\n",
    "df_combined = pd.concat(dataframes, ignore_index=True).drop(\"Unnamed: 0\", axis = 1)\n",
    "df_combined.head()"
   ]
  },
  {
   "cell_type": "markdown",
   "metadata": {},
   "source": [
    "## Filtering the Data"
   ]
  },
  {
   "cell_type": "code",
   "execution_count": 77,
   "metadata": {},
   "outputs": [
    {
     "data": {
      "text/plain": [
       "1345"
      ]
     },
     "execution_count": 77,
     "metadata": {},
     "output_type": "execute_result"
    }
   ],
   "source": [
    "df_filtered = df_combined.copy()\n",
    "df_filtered = df_filtered[df_filtered[\"score\"] > 3]\n",
    "df_filtered = df_filtered[df_filtered[\"c_score\"] > 10]\n",
    "df_filtered = df_filtered[df_filtered[\"name\"].apply(lambda x: \"infantil\" not in unidecode(x).lower())]\n",
    "df_filtered = df_filtered[df_filtered[\"search_parameters\"].apply(lambda x: x.split()[2:][0] != \"Hoteles\")]\n",
    "len(df_filtered)"
   ]
  },
  {
   "cell_type": "markdown",
   "metadata": {},
   "source": [
    "## Adding Computed Columns"
   ]
  },
  {
   "cell_type": "code",
   "execution_count": null,
   "metadata": {},
   "outputs": [],
   "source": [
    "df_filtered[\"bayesian_mean\"] = (df_filtered[\"score\"] * df_filtered[\"c_score\"] + 4 * 10) / (df_filtered[\"c_score\"] + 10)\n",
    "df_filtered[\"Comuna\"] = df_filtered[\"search_parameters\"].apply(lambda x: x.split()[1])\n",
    "df_filtered.head()\n"
   ]
  },
  {
   "cell_type": "markdown",
   "metadata": {},
   "source": [
    "##  Data Summary"
   ]
  },
  {
   "cell_type": "code",
   "execution_count": 81,
   "metadata": {},
   "outputs": [
    {
     "name": "stdout",
     "output_type": "stream",
     "text": [
      "Datos iniciales: 1781\n",
      "Datos filtrados: 1345\n"
     ]
    }
   ],
   "source": [
    "print(\"Datos iniciales:\", len(df_combined))\n",
    "print(\"Datos filtrados:\", len(df_filtered))"
   ]
  },
  {
   "cell_type": "markdown",
   "metadata": {},
   "source": [
    "## Saving the Final Dataset"
   ]
  },
  {
   "cell_type": "code",
   "execution_count": 82,
   "metadata": {},
   "outputs": [],
   "source": [
    "df_filtered.to_csv(\"./data/output/places/final_places.csv\")"
   ]
  }
 ],
 "metadata": {
  "kernelspec": {
   "display_name": "UN-Datathon",
   "language": "python",
   "name": "python3"
  },
  "language_info": {
   "codemirror_mode": {
    "name": "ipython",
    "version": 3
   },
   "file_extension": ".py",
   "mimetype": "text/x-python",
   "name": "python",
   "nbconvert_exporter": "python",
   "pygments_lexer": "ipython3",
   "version": "3.10.11"
  }
 },
 "nbformat": 4,
 "nbformat_minor": 2
}
